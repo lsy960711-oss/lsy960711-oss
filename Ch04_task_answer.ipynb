{
  "cells": [
    {
      "cell_type": "markdown",
      "metadata": {
        "id": "KROTggfmi9G6"
      },
      "source": [
        "<span style=\"font-size:100%\">\n",
        "\n",
        "수업은 모두 열심히 들으셨나요?\n",
        "\n",
        "간혹 강의에서 언급되지 않은 내용이 문제로 나올 수 있습니다.<br>\n",
        "그럴땐 강의 내용 외 문제는 구글링을 통해 해결해주세요<br></span>\n",
        "<span style=\"font-size:80%\">\n",
        "(구글링 또한 개발자가 갖쳐야할 역량 중에 하나랍니다 😊)\n",
        "</span>\n",
        "\n",
        "---"
      ]
    },
    {
      "cell_type": "markdown",
      "metadata": {
        "id": "xx8M3HFvi9G7"
      },
      "source": [
        "<span style=\"font-size:80%\">[문제1]<br><br></span>\n",
        "```다음 중 14 % 3의 계산 결과로 옳은 것을 고르세요```\n",
        "\n",
        "1. 4\n",
        "2. 4.6\n",
        "3. 2\n",
        "4. 1"
      ]
    },
    {
      "cell_type": "code",
      "source": [
        "print(14%3)"
      ],
      "metadata": {
        "colab": {
          "base_uri": "https://localhost:8080/"
        },
        "id": "SRBxeW7lEskk",
        "outputId": "2ba61cdd-a7df-4eed-b8da-6918dfa7a09b"
      },
      "execution_count": null,
      "outputs": [
        {
          "output_type": "stream",
          "name": "stdout",
          "text": [
            "2\n"
          ]
        }
      ]
    },
    {
      "cell_type": "markdown",
      "metadata": {
        "id": "dLwyrDvLi9G7"
      },
      "source": [
        "<span style=\"color:red\">답변</span>"
      ]
    },
    {
      "cell_type": "markdown",
      "source": [
        "3"
      ],
      "metadata": {
        "id": "I3f0_7cXGVJz"
      }
    },
    {
      "cell_type": "markdown",
      "metadata": {
        "id": "QjcV4kwAi9G8"
      },
      "source": [
        "----"
      ]
    },
    {
      "cell_type": "markdown",
      "metadata": {
        "id": "x4upTgt9i9G8"
      },
      "source": [
        "<span style=\"font-size:80%\">[문제2]<br><br></span>\n",
        "```계산식의 결과가 실수인 것을 모두 고르세요```\n",
        "\n",
        "1. float(17//3)\n",
        "2. int(10)-9\n",
        "3. float11/2\n",
        "4. float(10)-2"
      ]
    },
    {
      "cell_type": "code",
      "source": [
        "## 숫자는 괄호 안에 들어와야한다\n",
        "int (10-9)"
      ],
      "metadata": {
        "colab": {
          "base_uri": "https://localhost:8080/"
        },
        "id": "ChtmNxuhE2g_",
        "outputId": "003de8c2-d9a5-480e-9e8d-4b203fa083b4"
      },
      "execution_count": null,
      "outputs": [
        {
          "output_type": "execute_result",
          "data": {
            "text/plain": [
              "1"
            ]
          },
          "metadata": {},
          "execution_count": 11
        }
      ]
    },
    {
      "cell_type": "code",
      "source": [
        "float(10-2)"
      ],
      "metadata": {
        "colab": {
          "base_uri": "https://localhost:8080/"
        },
        "id": "p2pV0SBeFVjv",
        "outputId": "0f524f4a-6795-4235-e094-2440791ed438"
      },
      "execution_count": null,
      "outputs": [
        {
          "output_type": "execute_result",
          "data": {
            "text/plain": [
              "8.0"
            ]
          },
          "metadata": {},
          "execution_count": 5
        }
      ]
    },
    {
      "cell_type": "markdown",
      "metadata": {
        "id": "ZWkGD_bri9G8"
      },
      "source": [
        "<span style=\"color:red\">답변</span>"
      ]
    },
    {
      "cell_type": "markdown",
      "source": [
        "    2 , 4"
      ],
      "metadata": {
        "id": "UVVvC4bdGROy"
      }
    },
    {
      "cell_type": "markdown",
      "metadata": {
        "id": "gMzSY_oXbQGs"
      },
      "source": [
        "----"
      ]
    },
    {
      "cell_type": "markdown",
      "metadata": {
        "id": "UQDNTyWGbQGs"
      },
      "source": [
        "<span style=\"font-size:80%\">[문제3]<br><br></span>\n",
        "```Python에서 \"#\"이 의마하는 것은 무엇인지 설명해주세요```"
      ]
    },
    {
      "cell_type": "markdown",
      "metadata": {
        "id": "6msOT5pNbQGt"
      },
      "source": [
        "<span style=\"color:red\">답변</span>"
      ]
    },
    {
      "cell_type": "markdown",
      "metadata": {
        "id": "6hHU6PIpbQGt"
      },
      "source": [
        "읽지 않는 주석을 의미한다."
      ]
    },
    {
      "cell_type": "markdown",
      "metadata": {
        "id": "xHKNiO0bgKVA"
      },
      "source": [
        "----"
      ]
    },
    {
      "cell_type": "markdown",
      "metadata": {
        "id": "KHUlSb5li9G9"
      },
      "source": [
        "[문제4]<br><br>\n",
        "거듭제곱을 올바르게 표현한 식을 골라주세요\n",
        "\n",
        "1. 2 ^^ 3\n",
        "2. 2 ** 3\n",
        "3. 2 ^* 3\n",
        "4. 2 ~~ 3"
      ]
    },
    {
      "cell_type": "markdown",
      "metadata": {
        "id": "V3pewPtDi9G9"
      },
      "source": [
        "<span style=\"color:red\">답변</span> 거듭제곱은 ** 로 표현한다. 2"
      ]
    },
    {
      "cell_type": "markdown",
      "metadata": {
        "id": "EuP_qXC0i9G-"
      },
      "source": [
        "----"
      ]
    },
    {
      "cell_type": "markdown",
      "metadata": {
        "id": "z1RkivHXi9G-"
      },
      "source": [
        "[문제5]<br><br>\n",
        "몫과 나머지를 함께 구하기 위해 사용할 수 있는 표현을 골라주세요\n",
        "\n",
        "1. //\n",
        "2. divmod()\n",
        "3. %\n",
        "4. /"
      ]
    },
    {
      "cell_type": "markdown",
      "metadata": {
        "id": "DP88gMUoi9G-"
      },
      "source": [
        "<span style=\"color:red\">답변</span>"
      ]
    },
    {
      "cell_type": "markdown",
      "source": [
        "2. divmod()"
      ],
      "metadata": {
        "id": "AUCM0Yp4GGkb"
      }
    },
    {
      "cell_type": "markdown",
      "metadata": {
        "id": "Z0UpmMm4YZnG"
      },
      "source": [
        "----"
      ]
    },
    {
      "cell_type": "markdown",
      "metadata": {
        "id": "XeLb5lMmYZnH"
      },
      "source": [
        "[문제6]<br><br>\n",
        "파이썬에서 한 줄 주석을 표현하는 방법은 무엇인가요?\n",
        "\n",
        "1. `//`\n",
        "2. `<!-- -- >`\n",
        "3. `#`\n",
        "4. `/* */`"
      ]
    },
    {
      "cell_type": "markdown",
      "metadata": {
        "id": "GgXXqnqEYZnI"
      },
      "source": [
        "<span style=\"color:red\">답변</span>"
      ]
    },
    {
      "cell_type": "markdown",
      "metadata": {
        "id": "zdWAwwvNYZnI"
      },
      "source": [
        "3. #"
      ]
    },
    {
      "cell_type": "markdown",
      "metadata": {
        "id": "Yh95yxZsYZ-8"
      },
      "source": [
        "----"
      ]
    },
    {
      "cell_type": "markdown",
      "metadata": {
        "id": "y4qg-sGlYZ-9"
      },
      "source": [
        "[문제7]<br><br>\n",
        "다음 중 여러 줄 주석처럼 사용할 수 있는 표현은?\n",
        "\n",
        "1. `# 주석1 \\n # 주석2`\n",
        "2. `/* 주석 */`\n",
        "3. `\"\"\" 여러 줄 \"\"\"`\n",
        "4. `// 여러 줄`"
      ]
    },
    {
      "cell_type": "markdown",
      "metadata": {
        "id": "sK4zXr3fYZ-9"
      },
      "source": [
        "<span style=\"color:red\">답변</span>"
      ]
    },
    {
      "cell_type": "markdown",
      "metadata": {
        "id": "v_i7PC_JYZ-9"
      },
      "source": [
        "3"
      ]
    },
    {
      "cell_type": "markdown",
      "metadata": {
        "id": "t2uhmA8gYaM0"
      },
      "source": [
        "----"
      ]
    },
    {
      "cell_type": "markdown",
      "metadata": {
        "id": "xiFkZx8DYaM1"
      },
      "source": [
        "[문제8]<br><br>\n",
        "다음 중 print 함수의 올바른 사용 예는?\n",
        "\n",
        "1. `print \"Hello\"`\n",
        "2. `print(Hello)`\n",
        "3. `print(\"Hello\")`\n",
        "4. `print{'Hello'}`"
      ]
    },
    {
      "cell_type": "markdown",
      "metadata": {
        "id": "Bp36EWWyYaM1"
      },
      "source": [
        "<span style=\"color:red\">답변</span>"
      ]
    },
    {
      "cell_type": "markdown",
      "metadata": {
        "id": "3TfdSISdYaM1"
      },
      "source": [
        "3"
      ]
    },
    {
      "cell_type": "markdown",
      "metadata": {
        "id": "JYpYKk2eYaWD"
      },
      "source": [
        "----"
      ]
    },
    {
      "cell_type": "markdown",
      "metadata": {
        "id": "BGETnyW1YaWD"
      },
      "source": [
        "[문제9]<br><br>\n",
        "파이썬에서 들여쓰기(indentation)가 필요한 문법이 아닌 것은?\n",
        "\n",
        "1. if 조건문\n",
        "2. 함수 정의\n",
        "3. 반복문\n",
        "4. 변수 선언"
      ]
    },
    {
      "cell_type": "markdown",
      "metadata": {
        "id": "WWhthnFBYaWD"
      },
      "source": [
        "<span style=\"color:red\">답변</span>"
      ]
    },
    {
      "cell_type": "markdown",
      "metadata": {
        "id": "eVsT_gdkYaWE"
      },
      "source": [
        "4"
      ]
    },
    {
      "cell_type": "markdown",
      "metadata": {
        "id": "PJC33msFYafF"
      },
      "source": [
        "----"
      ]
    },
    {
      "cell_type": "markdown",
      "metadata": {
        "id": "F3aZ8_leYafG"
      },
      "source": [
        "[문제10]<br><br>\n",
        "다음 중 연산 결과가 정수(`int`)가 아닌 것은?\n",
        "\n",
        "1. `10 // 3`\n",
        "2. `int(5.7)`\n",
        "3. `float(3)`\n",
        "4. `7 % 2`"
      ]
    },
    {
      "cell_type": "markdown",
      "metadata": {
        "id": "RCZ-BYRlYafG"
      },
      "source": [
        "<span style=\"color:red\">답변</span>"
      ]
    },
    {
      "cell_type": "code",
      "source": [
        "10 // 3"
      ],
      "metadata": {
        "colab": {
          "base_uri": "https://localhost:8080/"
        },
        "id": "pq8VImLfHK9D",
        "outputId": "f60b53ac-713a-4665-e351-64168854cf8e"
      },
      "execution_count": null,
      "outputs": [
        {
          "output_type": "execute_result",
          "data": {
            "text/plain": [
              "3"
            ]
          },
          "metadata": {},
          "execution_count": 16
        }
      ]
    },
    {
      "cell_type": "code",
      "source": [
        "int(5.7)"
      ],
      "metadata": {
        "colab": {
          "base_uri": "https://localhost:8080/"
        },
        "id": "qStzNeZqHoN9",
        "outputId": "606f8957-2f42-497d-943f-e1e8959e9944"
      },
      "execution_count": null,
      "outputs": [
        {
          "output_type": "execute_result",
          "data": {
            "text/plain": [
              "5"
            ]
          },
          "metadata": {},
          "execution_count": 17
        }
      ]
    },
    {
      "cell_type": "code",
      "source": [
        "float(3)"
      ],
      "metadata": {
        "colab": {
          "base_uri": "https://localhost:8080/"
        },
        "id": "khziXQg7Hrpe",
        "outputId": "b3ce4ef4-31c4-46b8-c201-e2dee444aa2c"
      },
      "execution_count": null,
      "outputs": [
        {
          "output_type": "execute_result",
          "data": {
            "text/plain": [
              "3.0"
            ]
          },
          "metadata": {},
          "execution_count": 18
        }
      ]
    },
    {
      "cell_type": "code",
      "source": [
        "7%2"
      ],
      "metadata": {
        "colab": {
          "base_uri": "https://localhost:8080/"
        },
        "id": "URC1a3gfHt11",
        "outputId": "15a66cea-62cc-43c1-b47d-70e2d447cc38"
      },
      "execution_count": null,
      "outputs": [
        {
          "output_type": "execute_result",
          "data": {
            "text/plain": [
              "1"
            ]
          },
          "metadata": {},
          "execution_count": 19
        }
      ]
    },
    {
      "cell_type": "markdown",
      "metadata": {
        "id": "tcFyg7fVYafG"
      },
      "source": [
        "3 float는 소수 출력"
      ]
    },
    {
      "cell_type": "markdown",
      "metadata": {
        "id": "hYccJ2UJYanq"
      },
      "source": [
        "----"
      ]
    },
    {
      "cell_type": "markdown",
      "metadata": {
        "id": "lDhPMH5MYanr"
      },
      "source": [
        "[문제11]<br><br>\n",
        "다음 중 출력 결과가 1.5가 되는 코드를 고르세요.\n",
        "\n",
        "1. `print(3 // 2)`\n",
        "2. `print(3 / 2)`\n",
        "3. `print(3 % 2)`\n",
        "4. `print(int(3 / 2))`"
      ]
    },
    {
      "cell_type": "markdown",
      "metadata": {
        "id": "Dzr_NF42Yanr"
      },
      "source": [
        "<span style=\"color:red\">답변</span>"
      ]
    },
    {
      "cell_type": "code",
      "source": [
        "print(3/2)"
      ],
      "metadata": {
        "colab": {
          "base_uri": "https://localhost:8080/"
        },
        "id": "8nSQdju3H83w",
        "outputId": "f8b1e79d-c093-4133-bc90-ed5bc421ada6"
      },
      "execution_count": null,
      "outputs": [
        {
          "output_type": "stream",
          "name": "stdout",
          "text": [
            "1.5\n"
          ]
        }
      ]
    },
    {
      "cell_type": "markdown",
      "metadata": {
        "id": "s32RLmg2Yanr"
      },
      "source": [
        "2, 1번과 3번은 각각 몫, 나머지를 반환하기 때문에 소수가 나올 수 없다."
      ]
    },
    {
      "cell_type": "markdown",
      "metadata": {
        "id": "Ttlm48mhYawj"
      },
      "source": [
        "----"
      ]
    },
    {
      "cell_type": "markdown",
      "metadata": {
        "id": "0iRS1iSJYawk"
      },
      "source": [
        "[문제12]<br><br>\n",
        "다음 중 올바르게 float 형으로 변환한 예는?\n",
        "\n",
        "1. float(7)\n",
        "2. float(\"3.14\")\n",
        "3. float(\"abc\")\n",
        "4. float(3+2)"
      ]
    },
    {
      "cell_type": "markdown",
      "metadata": {
        "id": "niYKuCuoYawk"
      },
      "source": [
        "<span style=\"color:red\">답변</span>"
      ]
    },
    {
      "cell_type": "markdown",
      "metadata": {
        "id": "18Im2mjXYawk"
      },
      "source": [
        "1 2 4 ? 모두 float 변환이 정상으로 되는데 abc만 영어라 부적합한 것 같습니다"
      ]
    },
    {
      "cell_type": "markdown",
      "metadata": {
        "id": "jij7086vYa4j"
      },
      "source": [
        "----"
      ]
    },
    {
      "cell_type": "markdown",
      "metadata": {
        "id": "sTJO_IoVYa4k"
      },
      "source": [
        "[문제13]<br><br>\n",
        "divmod(17, 4)의 반환값은?\n",
        "\n",
        "1. (4, 1)\n",
        "2. (4, 2)\n",
        "3. 4.25\n",
        "4. 1"
      ]
    },
    {
      "cell_type": "markdown",
      "metadata": {
        "id": "PZM6DtFpYa4k"
      },
      "source": [
        "<span style=\"color:red\">답변</span>"
      ]
    },
    {
      "cell_type": "markdown",
      "metadata": {
        "id": "xbjgK_QIYa4k"
      },
      "source": [
        "1"
      ]
    },
    {
      "cell_type": "markdown",
      "metadata": {
        "id": "TqIU3JDvYbAj"
      },
      "source": [
        "----"
      ]
    },
    {
      "cell_type": "markdown",
      "metadata": {
        "id": "flEcl053YbAk"
      },
      "source": [
        "[문제14]<br><br>\n",
        "다음 중 pow(2, 3)과 같은 결과를 내는 식은?\n",
        "\n",
        "1. 2 * 3\n",
        "2. 2 ** 3\n",
        "3. 2 ^ 3\n",
        "4. 2 // 3"
      ]
    },
    {
      "cell_type": "markdown",
      "metadata": {
        "id": "SpAF3ObCYbAk"
      },
      "source": [
        "<span style=\"color:red\">답변</span>"
      ]
    },
    {
      "cell_type": "markdown",
      "metadata": {
        "id": "3loK8BDWYbAk"
      },
      "source": [
        "2"
      ]
    },
    {
      "cell_type": "markdown",
      "metadata": {
        "id": "DzBYFn5YYbIh"
      },
      "source": [
        "----"
      ]
    },
    {
      "cell_type": "markdown",
      "metadata": {
        "id": "E5WABdRQYbIh"
      },
      "source": [
        "[문제15]<br><br>\n",
        "파이썬에서 코드를 블록 단위로 구분하는 기준은 무엇인가요?\n",
        "\n",
        "1. 줄번호\n",
        "2. 들여쓰기\n",
        "3. 괄호 {}\n",
        "4. 세미콜론 ;"
      ]
    },
    {
      "cell_type": "markdown",
      "metadata": {
        "id": "vP4ukWmTYbIh"
      },
      "source": [
        "<span style=\"color:red\">답변</span>"
      ]
    },
    {
      "cell_type": "markdown",
      "metadata": {
        "id": "jk6zcxKnYbIh"
      },
      "source": [
        "2"
      ]
    },
    {
      "cell_type": "markdown",
      "metadata": {
        "id": "b_jLdxvJfjeH"
      },
      "source": [
        "----"
      ]
    },
    {
      "cell_type": "markdown",
      "metadata": {
        "id": "-3a2BnyHfjeG"
      },
      "source": [
        "<span style=\"font-size:80%\">[문제16]<br><br></span>\n",
        "```주로 작성 중인 코드의 끝을 알리는 기호로 사용되며 파이썬에서 한 줄에 작성된 서로 다른 코드를 구분 지을 때 사용할 수 있는 기호를 골라주세요```\n",
        "\n",
        "1. ' , ' (쉼표)\n",
        "2. ' + ' (더하기 기호)\n",
        "3. ' ; ' (세미콜론)\n",
        "4. ' / ' (슬래시)"
      ]
    },
    {
      "cell_type": "markdown",
      "metadata": {
        "id": "wohTOnrDfjeG"
      },
      "source": [
        "<span style=\"color:red\">답변</span> :"
      ]
    },
    {
      "cell_type": "markdown",
      "metadata": {
        "id": "cFnd7C6KfjeH"
      },
      "source": [
        "3"
      ]
    },
    {
      "cell_type": "markdown",
      "metadata": {
        "id": "455DtvFlfuvk"
      },
      "source": [
        "----"
      ]
    },
    {
      "cell_type": "markdown",
      "metadata": {
        "id": "vKQcdd-DbQGp"
      },
      "source": [
        "<span style=\"font-size:80%\">[문제17]<br><br></span>\n",
        "```Python의 PEP 8은 무엇인지 설명하고 PEP 8의 핵심적인 규칙을 1개 이상을 설명해주세요```"
      ]
    },
    {
      "cell_type": "markdown",
      "metadata": {
        "id": "n1YzgVZRbQGq"
      },
      "source": [
        "<span style=\"color:red\">답변</span>"
      ]
    },
    {
      "cell_type": "markdown",
      "metadata": {
        "id": "nMC0oY7ybQGr"
      },
      "source": [
        "PEP 8은 파이썬 코드를 작성 할 때 지켜야 할 규칙 8가지로\n",
        "\n",
        "강의 초반에 강조하는 들여쓰기가 그 예 중 하나입니다."
      ]
    }
  ],
  "metadata": {
    "colab": {
      "provenance": []
    },
    "language_info": {
      "name": "python"
    },
    "kernelspec": {
      "name": "python3",
      "display_name": "Python 3"
    }
  },
  "nbformat": 4,
  "nbformat_minor": 0
}