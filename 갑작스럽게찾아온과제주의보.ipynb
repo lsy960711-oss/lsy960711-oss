{
  "nbformat": 4,
  "nbformat_minor": 0,
  "metadata": {
    "colab": {
      "provenance": [],
      "authorship_tag": "ABX9TyOdAAkw0kKq9Kb5o/B61Ki8"
    },
    "kernelspec": {
      "name": "python3",
      "display_name": "Python 3"
    },
    "language_info": {
      "name": "python"
    }
  },
  "cells": [
    {
      "cell_type": "code",
      "execution_count": 1,
      "metadata": {
        "colab": {
          "base_uri": "https://localhost:8080/"
        },
        "id": "NgEnlfIOBrzz",
        "outputId": "e75d0c2f-f362-4eda-e2d3-fb737fa0526a"
      },
      "outputs": [
        {
          "output_type": "stream",
          "name": "stdout",
          "text": [
            "h\n"
          ]
        }
      ],
      "source": [
        "word = \"Python\"\n",
        "# 예상 결과: h\n",
        "# 예상 결과: n\n",
        "\n",
        "# 여기에 코드 작성\n",
        "print(word[3])"
      ]
    },
    {
      "cell_type": "code",
      "source": [
        "numbers = [10, 20, 30, 40, 50]\n",
        "# 예상 결과: 30\n",
        "# 예상 결과: 10\n",
        "\n",
        "# 여기에 코드 작성\n",
        "print(numbers[2])\n",
        "print(numbers[0])"
      ],
      "metadata": {
        "colab": {
          "base_uri": "https://localhost:8080/"
        },
        "id": "3YuFbRrgCcy_",
        "outputId": "be02d275-a5ac-4145-bfbd-8ea41c4a1b62"
      },
      "execution_count": 2,
      "outputs": [
        {
          "output_type": "stream",
          "name": "stdout",
          "text": [
            "30\n",
            "10\n"
          ]
        }
      ]
    },
    {
      "cell_type": "markdown",
      "source": [
        "###슬라이싱 문제\n",
        "(feat. 괄호를 잘 닫자 제발)\n",
        "\n",
        "(괄호 하나 때문에 5분 막힌 대단한 나)"
      ],
      "metadata": {
        "id": "LimFyBB7DWgZ"
      }
    },
    {
      "cell_type": "code",
      "source": [
        "text = \"Python\"\n",
        "# 예상 결과: Pyt\n",
        "# 예상 결과: thon\n",
        "\n",
        "\n",
        "# 여기에 코드 작성\n",
        "print(text[0:3])\n",
        "print(text[2:6])"
      ],
      "metadata": {
        "colab": {
          "base_uri": "https://localhost:8080/"
        },
        "id": "JQeInr1OCriG",
        "outputId": "03653f8d-bc78-424d-9780-b02fbf671201"
      },
      "execution_count": 5,
      "outputs": [
        {
          "output_type": "stream",
          "name": "stdout",
          "text": [
            "Pyt\n",
            "thon\n"
          ]
        }
      ]
    },
    {
      "cell_type": "code",
      "source": [
        "data = [10, 20, 30, 40, 50]\n",
        "# 예상 결과: [20, 30, 40]\n",
        "# 예상 결과: [50, 40, 30, 20, 10]\n",
        "\n",
        "# 여기에 코드 작성\n",
        "print(data[1:4])\n",
        "print(data[::-1])"
      ],
      "metadata": {
        "colab": {
          "base_uri": "https://localhost:8080/"
        },
        "id": "eE3vEuj7C7bf",
        "outputId": "c9cb4224-9b3c-4378-ff06-8374859b5a7f"
      },
      "execution_count": 7,
      "outputs": [
        {
          "output_type": "stream",
          "name": "stdout",
          "text": [
            "[20, 30, 40]\n",
            "[50, 40, 30, 20, 10]\n"
          ]
        }
      ]
    }
  ]
}