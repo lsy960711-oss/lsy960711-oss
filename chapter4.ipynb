{
  "nbformat": 4,
  "nbformat_minor": 0,
  "metadata": {
    "colab": {
      "provenance": [],
      "authorship_tag": "ABX9TyO1pn2zjkWoaRhYc5zkB+kA"
    },
    "kernelspec": {
      "name": "python3",
      "display_name": "Python 3"
    },
    "language_info": {
      "name": "python"
    }
  },
  "cells": [
    {
      "cell_type": "code",
      "execution_count": 2,
      "metadata": {
        "id": "EkWoIPI--yQ_"
      },
      "outputs": [],
      "source": []
    },
    {
      "cell_type": "markdown",
      "source": [
        "##사칙연산\n",
        "더하기 : +\n",
        "빼기 : -\n",
        "곱하기 : *\n",
        "나누기 :\n",
        "-   / : 우리가 알고있는 나누기와 동일한 기능 예 5/2\n",
        "-   // : 몫을 반환 예 5/2 = 2\n",
        "-   % : 나머지를 반환 예 5/2 = 1\n",
        "거듭제곱 : **"
      ],
      "metadata": {
        "id": "y2hzC92z_xkz"
      }
    },
    {
      "cell_type": "code",
      "source": [
        "# 더하기\n",
        "print(3+2)"
      ],
      "metadata": {
        "colab": {
          "base_uri": "https://localhost:8080/"
        },
        "id": "xkvlDd1pAJiC",
        "outputId": "0fa3f819-73ae-4fcd-f8f5-5bc17411d1e5"
      },
      "execution_count": 3,
      "outputs": [
        {
          "output_type": "stream",
          "name": "stdout",
          "text": [
            "5\n"
          ]
        }
      ]
    },
    {
      "cell_type": "code",
      "source": [
        "# 빼기\n",
        "print(3-1)"
      ],
      "metadata": {
        "colab": {
          "base_uri": "https://localhost:8080/"
        },
        "id": "XisXfV1LAYpg",
        "outputId": "46209677-d929-4685-b18e-dfb2f437f8ff"
      },
      "execution_count": 4,
      "outputs": [
        {
          "output_type": "stream",
          "name": "stdout",
          "text": [
            "2\n"
          ]
        }
      ]
    },
    {
      "cell_type": "code",
      "source": [
        "# 곱하기\n",
        "print(3*2)"
      ],
      "metadata": {
        "colab": {
          "base_uri": "https://localhost:8080/"
        },
        "id": "P9owxERlAcmQ",
        "outputId": "b1d0ecad-85cb-4939-a490-7e2182af82c0"
      },
      "execution_count": 5,
      "outputs": [
        {
          "output_type": "stream",
          "name": "stdout",
          "text": [
            "6\n"
          ]
        }
      ]
    },
    {
      "cell_type": "code",
      "source": [
        "# 나누기 /\n",
        "print(7/2)\n",
        "\n",
        "# //\n",
        "print(7//2)\n",
        "\n",
        "# %\n",
        "print(7%2)"
      ],
      "metadata": {
        "colab": {
          "base_uri": "https://localhost:8080/"
        },
        "id": "j1VBeJ75AmM_",
        "outputId": "c9717aae-ebf0-4a58-ae1e-801efd312cd9"
      },
      "execution_count": 8,
      "outputs": [
        {
          "output_type": "stream",
          "name": "stdout",
          "text": [
            "3.5\n",
            "3\n",
            "1\n"
          ]
        }
      ]
    },
    {
      "cell_type": "markdown",
      "source": [
        "내장함수 : divmod\n",
        "\n",
        "> 내장함수 : 자주 사용하는 기능을 미리 만들어 놓은 것을 내장함수라고 한다.\n",
        "\n",
        "**divmod** : 몫과 나머지를 동시에 구해줌"
      ],
      "metadata": {
        "id": "DFuBNut7BLvu"
      }
    },
    {
      "cell_type": "code",
      "source": [
        "print (divmod(3, 2))\n",
        "print (divmod(7, 4))\n",
        "print (divmod(13, 2))\n",
        "print (divmod(19, 4))\n",
        "print (divmod(15, 9))\n",
        "\n",
        "print(7//4 , \" , \" , 7%4)\n",
        "# 프린트는 하나의 출력만 하기 때문에 콤마를 넣어 구분해줘야한다."
      ],
      "metadata": {
        "colab": {
          "base_uri": "https://localhost:8080/"
        },
        "id": "DSbyAdFeBnDg",
        "outputId": "f9a66291-3089-4615-abd9-47eaab5692c0"
      },
      "execution_count": 15,
      "outputs": [
        {
          "output_type": "stream",
          "name": "stdout",
          "text": [
            "(1, 1)\n",
            "(1, 3)\n",
            "(6, 1)\n",
            "(4, 3)\n",
            "(1, 6)\n",
            "1  ,  3\n"
          ]
        }
      ]
    },
    {
      "cell_type": "markdown",
      "source": [
        "### 괄호\n",
        "\n",
        "수학에서 사용되는 괄호와 동일한 기능\n",
        "\n",
        "() : 괄호 안에 있는 것을 우선 계산\n",
        "\n",
        "사칙연산 순서 : 괄호 - 곱하기와 나누기 - 더하기와 빼기"
      ],
      "metadata": {
        "id": "681OVu2WC0qU"
      }
    },
    {
      "cell_type": "code",
      "source": [
        "3 + 2 * 4"
      ],
      "metadata": {
        "colab": {
          "base_uri": "https://localhost:8080/"
        },
        "id": "wiI-xfIuDG7b",
        "outputId": "0575b1b9-4b11-4444-fd3c-75c8c7c771ff"
      },
      "execution_count": 16,
      "outputs": [
        {
          "output_type": "execute_result",
          "data": {
            "text/plain": [
              "11"
            ]
          },
          "metadata": {},
          "execution_count": 16
        }
      ]
    },
    {
      "cell_type": "code",
      "source": [
        "(3+2)*4"
      ],
      "metadata": {
        "colab": {
          "base_uri": "https://localhost:8080/"
        },
        "id": "pKYqUaBLDPaV",
        "outputId": "48f85208-517a-4156-bc6d-18b0e941d5bd"
      },
      "execution_count": 17,
      "outputs": [
        {
          "output_type": "execute_result",
          "data": {
            "text/plain": [
              "20"
            ]
          },
          "metadata": {},
          "execution_count": 17
        }
      ]
    }
  ]
}